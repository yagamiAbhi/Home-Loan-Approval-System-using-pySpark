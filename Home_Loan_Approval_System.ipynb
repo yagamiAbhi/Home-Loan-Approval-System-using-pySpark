{
  "nbformat": 4,
  "nbformat_minor": 0,
  "metadata": {
    "colab": {
      "provenance": [],
      "authorship_tag": "ABX9TyMRoGhXcZFKHZQYheHBa2YG",
      "include_colab_link": true
    },
    "kernelspec": {
      "name": "python3",
      "display_name": "Python 3"
    },
    "language_info": {
      "name": "python"
    }
  },
  "cells": [
    {
      "cell_type": "markdown",
      "metadata": {
        "id": "view-in-github",
        "colab_type": "text"
      },
      "source": [
        "<a href=\"https://colab.research.google.com/github/yagamiAbhi/Home-Loan-Approval-System-using-pySpark/blob/main/Home_Loan_Approval_System.ipynb\" target=\"_parent\"><img src=\"https://colab.research.google.com/assets/colab-badge.svg\" alt=\"Open In Colab\"/></a>"
      ]
    },
    {
      "cell_type": "markdown",
      "source": [
        "Consider one of the leading financial organization that provides Health Insurance, Home loan, Education Loan, and other banking services globally to its customers.\n",
        "\n",
        "\n",
        "Approving an online home loan application is critical as it requires proper verification and validation of the user information. To provide optimized user experience, organization has decided to provide instant online home loan approval.\n",
        "\n",
        "\n",
        "The technical team is using HDFS for storage, Spark core and Spark SQL to process online home loan requests and provide faster approval.\n",
        "\n",
        "\n",
        "In the approval process, below business rules to be verified.\n",
        "\n",
        "\n",
        "\n",
        "1.   Customer’s defaulter status\n",
        "2.   Customer’s credit score which provides an insight for the eligibility\n",
        "     of approving a home loan application\n",
        "\n",
        "\n"
      ],
      "metadata": {
        "id": "D8KHaT9Cvabr"
      }
    },
    {
      "cell_type": "code",
      "execution_count": 1,
      "metadata": {
        "colab": {
          "base_uri": "https://localhost:8080/"
        },
        "id": "dTtk3gBWvBGB",
        "outputId": "2ab78aef-c954-4e0e-d7bb-c09223fe09d8"
      },
      "outputs": [
        {
          "output_type": "stream",
          "name": "stdout",
          "text": [
            "Collecting pyspark\n",
            "  Downloading pyspark-3.4.1.tar.gz (310.8 MB)\n",
            "\u001b[2K     \u001b[90m━━━━━━━━━━━━━━━━━━━━━━━━━━━━━━━━━━━━━━━\u001b[0m \u001b[32m310.8/310.8 MB\u001b[0m \u001b[31m2.7 MB/s\u001b[0m eta \u001b[36m0:00:00\u001b[0m\n",
            "\u001b[?25h  Preparing metadata (setup.py) ... \u001b[?25l\u001b[?25hdone\n",
            "Requirement already satisfied: py4j==0.10.9.7 in /usr/local/lib/python3.10/dist-packages (from pyspark) (0.10.9.7)\n",
            "Building wheels for collected packages: pyspark\n",
            "  Building wheel for pyspark (setup.py) ... \u001b[?25l\u001b[?25hdone\n",
            "  Created wheel for pyspark: filename=pyspark-3.4.1-py2.py3-none-any.whl size=311285387 sha256=a78b4ea943207ea7592c1566b9fef940891ddc37201b78cbd60ebc62e44200e9\n",
            "  Stored in directory: /root/.cache/pip/wheels/0d/77/a3/ff2f74cc9ab41f8f594dabf0579c2a7c6de920d584206e0834\n",
            "Successfully built pyspark\n",
            "Installing collected packages: pyspark\n",
            "Successfully installed pyspark-3.4.1\n"
          ]
        }
      ],
      "source": [
        "pip install pyspark"
      ]
    },
    {
      "cell_type": "code",
      "source": [
        "from pyspark import SparkContext\n",
        "sc = SparkContext(master='local',appName='HLAS')"
      ],
      "metadata": {
        "id": "l2qI4GyMlhIA"
      },
      "execution_count": 2,
      "outputs": []
    },
    {
      "cell_type": "code",
      "source": [
        "from pyspark.sql import SparkSession, SQLContext\n",
        "spark = SparkSession(sc)\n",
        "sqlContext = SQLContext(sc)"
      ],
      "metadata": {
        "colab": {
          "base_uri": "https://localhost:8080/"
        },
        "id": "GWNhuSOrlyDf",
        "outputId": "20c6ceac-81e7-490e-8779-ac1243e632d9"
      },
      "execution_count": 3,
      "outputs": [
        {
          "output_type": "stream",
          "name": "stderr",
          "text": [
            "/usr/local/lib/python3.10/dist-packages/pyspark/sql/context.py:112: FutureWarning: Deprecated in 3.0.0. Use SparkSession.builder.getOrCreate() instead.\n",
            "  warnings.warn(\n"
          ]
        }
      ]
    },
    {
      "cell_type": "markdown",
      "source": [
        "### Task 1: Create Spark SQL DataFrames"
      ],
      "metadata": {
        "id": "XLoYSSsBnJ76"
      }
    },
    {
      "cell_type": "code",
      "source": [
        "applicationDataRDD = sc.textFile('/content/HomeLoanApplicationData.csv')\n",
        "ReferenceDataRDD = sc.textFile('/content/ClientReferenceDataset.csv')"
      ],
      "metadata": {
        "id": "ZAGFzQEWmb00"
      },
      "execution_count": 4,
      "outputs": []
    },
    {
      "cell_type": "code",
      "source": [
        "applicationDataRDD = applicationDataRDD.map(lambda x: x.split(','))\n",
        "ReferenceDataRDD = ReferenceDataRDD.map(lambda x: x.split(','))"
      ],
      "metadata": {
        "id": "8yA3mcUassKb"
      },
      "execution_count": 5,
      "outputs": []
    },
    {
      "cell_type": "code",
      "source": [
        "applicationDataRDD.take(2)\n"
      ],
      "metadata": {
        "colab": {
          "base_uri": "https://localhost:8080/"
        },
        "id": "7z876b8lm8gS",
        "outputId": "f99efbc0-656f-4f5e-9408-40f50e95b1e2"
      },
      "execution_count": 6,
      "outputs": [
        {
          "output_type": "execute_result",
          "data": {
            "text/plain": [
              "[['Abhishek',\n",
              "  '23-08-81',\n",
              "  'UIN0001',\n",
              "  'Abhishek@mail.com',\n",
              "  '1287655553',\n",
              "  'Ahmedabad',\n",
              "  'Gujarat',\n",
              "  'APL',\n",
              "  '380001',\n",
              "  '23000'],\n",
              " ['Aman',\n",
              "  '17-09-84',\n",
              "  'UIN0002',\n",
              "  'Aman@mail.com',\n",
              "  '9776543221',\n",
              "  'Mumbai',\n",
              "  'Maharashtra',\n",
              "  'BPL',\n",
              "  '400001',\n",
              "  '22500']]"
            ]
          },
          "metadata": {},
          "execution_count": 6
        }
      ]
    },
    {
      "cell_type": "code",
      "source": [
        "from pyspark.sql.types import StructType, StructField, StringType\n",
        "\n",
        "app_schema = StructType([StructField('CustomerName', StringType(), True),\n",
        "                        StructField('DOB', StringType(), True),\n",
        "                        StructField('UIN', StringType(), True),\n",
        "                        StructField('MailID', StringType(), True),\n",
        "                        StructField('PhoneNumber', StringType(), True),\n",
        "                        StructField('City', StringType(), True),\n",
        "                        StructField('State', StringType(), True),\n",
        "                        StructField('LivingStatus', StringType(), True),\n",
        "                        StructField('PinCode', StringType(), True),\n",
        "                        StructField('LoanAmount', StringType(), True)]\n",
        "                        )\n",
        "\n",
        "ref_schema = StructType([StructField('CustomerName', StringType(), True),\n",
        "                        StructField('DOB', StringType(), True),\n",
        "                        StructField('UIN', StringType(), True),\n",
        "                        StructField('City', StringType(), True),\n",
        "                        StructField('State', StringType(), True),\n",
        "                        StructField('PinCode', StringType(), True),\n",
        "                        StructField('CibilScore', StringType(), True),\n",
        "                        StructField('DefaulterFlag', StringType(), True)]\n",
        "                        )"
      ],
      "metadata": {
        "id": "VVZXyujcnnHy"
      },
      "execution_count": 7,
      "outputs": []
    },
    {
      "cell_type": "code",
      "source": [
        "application_df = spark.createDataFrame(applicationDataRDD, app_schema)"
      ],
      "metadata": {
        "id": "NF9f8RueomTC"
      },
      "execution_count": 18,
      "outputs": []
    },
    {
      "cell_type": "code",
      "source": [
        "from pyspark.sql.functions import col, lit, when"
      ],
      "metadata": {
        "id": "RVab-spE6coz"
      },
      "execution_count": 52,
      "outputs": []
    },
    {
      "cell_type": "code",
      "source": [
        "application_df = application_df.withColumn('PhoneNumber', col('PhoneNumber').cast('long')).withColumn('LoanAmount', col('LoanAmount').cast('long'))"
      ],
      "metadata": {
        "id": "FRiiGmtt7YgO"
      },
      "execution_count": 20,
      "outputs": []
    },
    {
      "cell_type": "code",
      "source": [
        "application_df.printSchema()"
      ],
      "metadata": {
        "colab": {
          "base_uri": "https://localhost:8080/"
        },
        "id": "SOTZr9Je8EPt",
        "outputId": "65e273bc-1a1f-491d-9f8d-259b98b1cecb"
      },
      "execution_count": 21,
      "outputs": [
        {
          "output_type": "stream",
          "name": "stdout",
          "text": [
            "root\n",
            " |-- CustomerName: string (nullable = true)\n",
            " |-- DOB: string (nullable = true)\n",
            " |-- UIN: string (nullable = true)\n",
            " |-- MailID: string (nullable = true)\n",
            " |-- PhoneNumber: long (nullable = true)\n",
            " |-- City: string (nullable = true)\n",
            " |-- State: string (nullable = true)\n",
            " |-- LivingStatus: string (nullable = true)\n",
            " |-- PinCode: string (nullable = true)\n",
            " |-- LoanAmount: long (nullable = true)\n",
            "\n"
          ]
        }
      ]
    },
    {
      "cell_type": "code",
      "source": [
        "reference_df = ReferenceDataRDD.toDF(ref_schema)\n",
        "reference_df = reference_df.withColumn('PinCode', reference_df['PinCode'].cast('long')).withColumn('CibilScore', reference_df['CibilScore'].cast('long'))\n",
        "reference_df.printSchema()"
      ],
      "metadata": {
        "colab": {
          "base_uri": "https://localhost:8080/"
        },
        "id": "xvzvfYFhCMKK",
        "outputId": "2209664b-b110-440e-b990-a4c95193c712"
      },
      "execution_count": 23,
      "outputs": [
        {
          "output_type": "stream",
          "name": "stdout",
          "text": [
            "root\n",
            " |-- CustomerName: string (nullable = true)\n",
            " |-- DOB: string (nullable = true)\n",
            " |-- UIN: string (nullable = true)\n",
            " |-- City: string (nullable = true)\n",
            " |-- State: string (nullable = true)\n",
            " |-- PinCode: long (nullable = true)\n",
            " |-- CibilScore: long (nullable = true)\n",
            " |-- DefaulterFlag: string (nullable = true)\n",
            "\n"
          ]
        }
      ]
    },
    {
      "cell_type": "code",
      "source": [
        "reference_df.show(3)"
      ],
      "metadata": {
        "colab": {
          "base_uri": "https://localhost:8080/"
        },
        "id": "1r5yI-yxC-RN",
        "outputId": "199b46e5-fbb6-4f4d-8f89-c76a3b9bdbe3"
      },
      "execution_count": 24,
      "outputs": [
        {
          "output_type": "stream",
          "name": "stdout",
          "text": [
            "+------------+--------+-------+-----------------+-----------+-------+----------+-------------+\n",
            "|CustomerName|     DOB|    UIN|             City|      State|PinCode|CibilScore|DefaulterFlag|\n",
            "+------------+--------+-------+-----------------+-----------+-------+----------+-------------+\n",
            "|    Abhishek|23-08-81|UIN0001|        Ahmedabad|    Gujarat| 380001|       910|            N|\n",
            "|        Aman|17-09-84|UIN0002|           Mumbai|Maharashtra| 400001|       910|            N|\n",
            "|       Harsh|17-03-83|UIN0003|Thiruvananthpuram|     Kerala| 695001|       530|            N|\n",
            "+------------+--------+-------+-----------------+-----------+-------+----------+-------------+\n",
            "only showing top 3 rows\n",
            "\n"
          ]
        }
      ]
    },
    {
      "cell_type": "code",
      "source": [
        "application_df.show(3)"
      ],
      "metadata": {
        "colab": {
          "base_uri": "https://localhost:8080/"
        },
        "id": "YcVO46h9DHRz",
        "outputId": "2ad0fc2b-a795-4ae9-f49d-d833486244aa"
      },
      "execution_count": 25,
      "outputs": [
        {
          "output_type": "stream",
          "name": "stdout",
          "text": [
            "+------------+--------+-------+-----------------+-----------+-----------------+-----------+------------+-------+----------+\n",
            "|CustomerName|     DOB|    UIN|           MailID|PhoneNumber|             City|      State|LivingStatus|PinCode|LoanAmount|\n",
            "+------------+--------+-------+-----------------+-----------+-----------------+-----------+------------+-------+----------+\n",
            "|    Abhishek|23-08-81|UIN0001|Abhishek@mail.com| 1287655553|        Ahmedabad|    Gujarat|         APL| 380001|     23000|\n",
            "|        Aman|17-09-84|UIN0002|    Aman@mail.com| 9776543221|           Mumbai|Maharashtra|         BPL| 400001|     22500|\n",
            "|       Harsh|17-03-83|UIN0003|   Harsh@mail.com| 9987765234|Thiruvananthpuram|     Kerala|         BPL| 695001|     21500|\n",
            "+------------+--------+-------+-----------------+-----------+-----------------+-----------+------------+-------+----------+\n",
            "only showing top 3 rows\n",
            "\n"
          ]
        }
      ]
    },
    {
      "cell_type": "markdown",
      "source": [
        "### Task 2: Joining DataFrames"
      ],
      "metadata": {
        "id": "qit7vwlzID-j"
      }
    },
    {
      "cell_type": "code",
      "source": [
        "join_data = application_df.join(other=reference_df, on=['UIN','CustomerName','DOB','City','State','PinCode'], how='inner').sort('UIN', ascending=True)\n",
        "join_data.show(3)"
      ],
      "metadata": {
        "colab": {
          "base_uri": "https://localhost:8080/"
        },
        "id": "iEGCSA8SHGGG",
        "outputId": "0d2ef1c8-b18f-4835-ba29-59bfdcbfb0c3"
      },
      "execution_count": 37,
      "outputs": [
        {
          "output_type": "stream",
          "name": "stdout",
          "text": [
            "+-------+------------+--------+-----------------+-----------+-------+-----------------+-----------+------------+----------+----------+-------------+\n",
            "|    UIN|CustomerName|     DOB|             City|      State|PinCode|           MailID|PhoneNumber|LivingStatus|LoanAmount|CibilScore|DefaulterFlag|\n",
            "+-------+------------+--------+-----------------+-----------+-------+-----------------+-----------+------------+----------+----------+-------------+\n",
            "|UIN0001|    Abhishek|23-08-81|        Ahmedabad|    Gujarat| 380001|Abhishek@mail.com| 1287655553|         APL|     23000|       910|            N|\n",
            "|UIN0002|        Aman|17-09-84|           Mumbai|Maharashtra| 400001|    Aman@mail.com| 9776543221|         BPL|     22500|       910|            N|\n",
            "|UIN0003|       Harsh|17-03-83|Thiruvananthpuram|     Kerala| 695001|   Harsh@mail.com| 9987765234|         BPL|     21500|       530|            N|\n",
            "+-------+------------+--------+-----------------+-----------+-------+-----------------+-----------+------------+----------+----------+-------------+\n",
            "only showing top 3 rows\n",
            "\n"
          ]
        }
      ]
    },
    {
      "cell_type": "code",
      "source": [
        "print(\"Total records in app_df is : \",application_df.count())\n",
        "print(\"Total records in ref_df is : \",reference_df.count())\n",
        "print(\"Total records in join_df is : \",join_data.count())"
      ],
      "metadata": {
        "colab": {
          "base_uri": "https://localhost:8080/"
        },
        "id": "1mBKNUThGePL",
        "outputId": "99f5533e-5a3e-4fcd-cf0a-7e2acd6d2748"
      },
      "execution_count": 38,
      "outputs": [
        {
          "output_type": "stream",
          "name": "stdout",
          "text": [
            "Total records in app_df is :  60\n",
            "Total records in ref_df is :  60\n",
            "Total records in join_df is :  60\n"
          ]
        }
      ]
    },
    {
      "cell_type": "markdown",
      "source": [
        "### 1.   Customers with defaulter status\n",
        "\n",
        "\n",
        "\n"
      ],
      "metadata": {
        "id": "_0Ar_cNaIcrS"
      }
    },
    {
      "cell_type": "code",
      "source": [
        "defaulter = join_data.filter('DefaulterFlag==\"Y\"')"
      ],
      "metadata": {
        "id": "1KHXvBTcGHvw"
      },
      "execution_count": 40,
      "outputs": []
    },
    {
      "cell_type": "code",
      "source": [
        "print('Total numbers of customers with defaulter statuts is :', defaulter.count())\n",
        "defaulter.show()"
      ],
      "metadata": {
        "colab": {
          "base_uri": "https://localhost:8080/"
        },
        "id": "F1HdqnjDJABr",
        "outputId": "c503d0df-81fc-4c06-9525-9aeee2de0b5f"
      },
      "execution_count": 42,
      "outputs": [
        {
          "output_type": "stream",
          "name": "stdout",
          "text": [
            "Total numbers of customers with defaulter statuts is : 14\n",
            "+-------+------------+--------+-----------------+-----------+-------+-----------------+-----------+------------+----------+----------+-------------+\n",
            "|    UIN|CustomerName|     DOB|             City|      State|PinCode|           MailID|PhoneNumber|LivingStatus|LoanAmount|CibilScore|DefaulterFlag|\n",
            "+-------+------------+--------+-----------------+-----------+-------+-----------------+-----------+------------+----------+----------+-------------+\n",
            "|UIN0005|       Aditi|21-08-79|           Mumbai|Maharashtra| 400001|   Aditi@mail.com| 8888777722|         BPL|     25500|      1300|            Y|\n",
            "|UIN0008|     Anushka|25-08-82|Thiruvananthpuram|     Kerala| 695001| Anushka@mail.com| 3344990876|         APL|     24500|      1530|            Y|\n",
            "|UIN0010|     Saurabh|22-08-83|           Mumbai|Maharashtra| 400001| Saurabh@mail.com| 3344990876|         APL|     20500|      4530|            Y|\n",
            "|UIN0020|       Kajal|22-08-85|           Mumbai|Maharashtra| 400001|   Kajal@mail.com| 3344990876|         APL|     20500|       370|            Y|\n",
            "|UIN0023|      Nikhil|22-08-81|        Ahmedabad|    Gujarat| 380001|  Nikhil@mail.com| 3344990876|         BPL|     23000|       370|            Y|\n",
            "|UIN0026|       Priya|22-08-87|           Mumbai|Maharashtra| 400001|   Priya@mail.com| 3344990876|         APL|     21500|       370|            Y|\n",
            "|UIN0028|    Shashank|22-09-87|Thiruvananthpuram|     Kerala| 695001|Shashank@mail.com| 3344990876|         APL|     22000|       370|            Y|\n",
            "|UIN0035|       Vivek|21-08-79|           Mumbai|Maharashtra| 400001|   Vivek@mail.com| 8888777722|         BPL|     25500|      1300|            Y|\n",
            "|UIN0038|      Aditya|25-08-82|Thiruvananthpuram|     Kerala| 695001|  Aditya@mail.com| 3344990876|         APL|     24500|      1530|            Y|\n",
            "|UIN0040|      Ayushi|22-08-83|           Mumbai|Maharashtra| 400001|  Ayushi@mail.com| 3344990876|         APL|     20500|      4530|            Y|\n",
            "|UIN0050|    Ashutosh|22-08-85|           Mumbai|Maharashtra| 400001|Ashutosh@mail.com| 3344990876|         APL|     20500|       370|            Y|\n",
            "|UIN0053|      Piyush|22-08-81|        Ahmedabad|    Gujarat| 380001|  Piyush@mail.com| 3344990876|         BPL|     23000|       370|            Y|\n",
            "|UIN0056|    Akanksha|22-08-87|           Mumbai|Maharashtra| 400001|Akanksha@mail.com| 3344990876|         APL|     21500|       370|            Y|\n",
            "|UIN0058|      Ritika|22-09-87|Thiruvananthpuram|     Kerala| 695001|  Ritika@mail.com| 3344990876|         APL|     22000|       370|            Y|\n",
            "+-------+------------+--------+-----------------+-----------+-------+-----------------+-----------+------------+----------+----------+-------------+\n",
            "\n"
          ]
        }
      ]
    },
    {
      "cell_type": "markdown",
      "source": [
        "### 2.   customers whose LivingStatus is “BPL” or “APL\n"
      ],
      "metadata": {
        "id": "hnV7rDqWJj0D"
      }
    },
    {
      "cell_type": "code",
      "source": [
        "cust_bpl_apl = join_data.filter( \"LivingStatus=='BPL'\" or \"LivingStatus=='APL'\" )"
      ],
      "metadata": {
        "id": "WKlU7q7qJoQt"
      },
      "execution_count": 45,
      "outputs": []
    },
    {
      "cell_type": "code",
      "source": [
        "print('Total numbers of customers whose LivingStatus is “BPL” or “APL is :', cust_bpl_apl.count())"
      ],
      "metadata": {
        "colab": {
          "base_uri": "https://localhost:8080/"
        },
        "id": "WXFXSwTZLAL8",
        "outputId": "e2862a6c-1d04-4247-cff9-ed5b2ab1849b"
      },
      "execution_count": 46,
      "outputs": [
        {
          "output_type": "stream",
          "name": "stdout",
          "text": [
            "Total numbers of customers whose LivingStatus is “BPL” or “APL is : 28\n"
          ]
        }
      ]
    },
    {
      "cell_type": "markdown",
      "source": [
        "### 3.   Apply the status to be Approved if the client is not a defaulter and the credit score is more than 800\n",
        "\n",
        "\n"
      ],
      "metadata": {
        "id": "Ocko7TX7LjvO"
      }
    },
    {
      "cell_type": "code",
      "source": [
        "final_data = join_data.withColumn('Status', when( (join_data['DefaulterFlag'] == 'N') &\n",
        " (join_data['CibilScore']>800), \"Approved\").otherwise(\"Rejected\"))"
      ],
      "metadata": {
        "id": "R2s_rTZlNoF0"
      },
      "execution_count": 60,
      "outputs": []
    },
    {
      "cell_type": "code",
      "source": [
        "final_data.show()"
      ],
      "metadata": {
        "colab": {
          "base_uri": "https://localhost:8080/"
        },
        "id": "ygaRcBdHOnyK",
        "outputId": "99a76596-54aa-48de-f265-755636250400"
      },
      "execution_count": 61,
      "outputs": [
        {
          "output_type": "stream",
          "name": "stdout",
          "text": [
            "+-------+------------+--------+-----------------+-----------+-------+-----------------+-----------+------------+----------+----------+-------------+--------+\n",
            "|    UIN|CustomerName|     DOB|             City|      State|PinCode|           MailID|PhoneNumber|LivingStatus|LoanAmount|CibilScore|DefaulterFlag|  Status|\n",
            "+-------+------------+--------+-----------------+-----------+-------+-----------------+-----------+------------+----------+----------+-------------+--------+\n",
            "|UIN0001|    Abhishek|23-08-81|        Ahmedabad|    Gujarat| 380001|Abhishek@mail.com| 1287655553|         APL|     23000|       910|            N|Approved|\n",
            "|UIN0002|        Aman|17-09-84|           Mumbai|Maharashtra| 400001|    Aman@mail.com| 9776543221|         BPL|     22500|       910|            N|Approved|\n",
            "|UIN0003|       Harsh|17-03-83|Thiruvananthpuram|     Kerala| 695001|   Harsh@mail.com| 9987765234|         BPL|     21500|       530|            N|Rejected|\n",
            "|UIN0004|       Ayush|22-02-78|Thiruvananthpuram|     Kerala| 695001|   Ayush@mail.com| 4335544553|         APL|     21500|       530|            N|Rejected|\n",
            "|UIN0005|       Aditi|21-08-79|           Mumbai|Maharashtra| 400001|   Aditi@mail.com| 8888777722|         BPL|     25500|      1300|            Y|Rejected|\n",
            "|UIN0006|      Anjali|21-06-82|        Ahmedabad|    Gujarat| 380001|  Anjali@mail.com|  223377882|         APL|     21000|       910|            N|Approved|\n",
            "|UIN0007|     Shubham|23-08-86|Thiruvananthpuram|     Kerala| 695001| Shubham@mail.com|44557768443|         BPL|     21000|      3530|            N|Approved|\n",
            "|UIN0008|     Anushka|25-08-82|Thiruvananthpuram|     Kerala| 695001| Anushka@mail.com| 3344990876|         APL|     24500|      1530|            Y|Rejected|\n",
            "|UIN0009|       Rohit|23-08-83|        Ahmedabad|    Gujarat| 380001|   Rohit@mail.com| 3344990876|         BPL|     22000|      3530|            N|Approved|\n",
            "|UIN0010|     Saurabh|22-08-83|           Mumbai|Maharashtra| 400001| Saurabh@mail.com| 3344990876|         APL|     20500|      4530|            Y|Rejected|\n",
            "|UIN0011|      Muskan|22-07-84|           Mumbai|Maharashtra| 400001|  Muskan@mail.com| 3344990876|         APL|     20500|       370|            N|Rejected|\n",
            "|UIN0012|       Rahul|22-08-85|           Mumbai|Maharashtra| 400001|   Rahul@mail.com| 3344990876|         APL|     23500|       370|            N|Rejected|\n",
            "|UIN0013|     Utkarsh|22-03-86|        Ahmedabad|    Gujarat| 380001| Utkarsh@mail.com| 3344990876|         BPL|     23000|       370|            N|Rejected|\n",
            "|UIN0014|     Vaibhav|22-02-83|Thiruvananthpuram|     Kerala| 695001| Vaibhav@mail.com| 3344990876|         APL|     24500|       370|            N|Rejected|\n",
            "|UIN0015|        Amit|28-01-84|           Mumbai|Maharashtra| 400001|    Amit@mail.com| 3344990876|         BPL|     23500|       370|            N|Rejected|\n",
            "|UIN0016|      Saumya|22-09-85|Thiruvananthpuram|     Kerala| 695001|  Saumya@mail.com| 3344990876|         APL|     24500|       370|            N|Rejected|\n",
            "|UIN0017|     Rishabh|21-10-86|        Ahmedabad|    Gujarat| 380001| Rishabh@mail.com| 3344990876|         BPL|     23000|       370|            N|Rejected|\n",
            "|UIN0018|      Shruti|22-08-83|           Mumbai|Maharashtra| 400001|  Shruti@mail.com| 3344990876|         APL|     23000|       370|            N|Rejected|\n",
            "|UIN0019|    Himanshu|22-08-84|Thiruvananthpuram|     Kerala| 695001|Himanshu@mail.com| 3344990876|         BPL|     24500|       370|            N|Rejected|\n",
            "|UIN0020|       Kajal|22-08-85|           Mumbai|Maharashtra| 400001|   Kajal@mail.com| 3344990876|         APL|     20500|       370|            Y|Rejected|\n",
            "+-------+------------+--------+-----------------+-----------+-------+-----------------+-----------+------------+----------+----------+-------------+--------+\n",
            "only showing top 20 rows\n",
            "\n"
          ]
        }
      ]
    },
    {
      "cell_type": "markdown",
      "source": [
        "### 4.   Display the UIN, Client Name, Status & loan amount"
      ],
      "metadata": {
        "id": "muer11hDksU7"
      }
    },
    {
      "cell_type": "code",
      "source": [
        "final_file = final_data.select('UIN','CustomerName','Status','LoanAmount')\n",
        "final_file.show()"
      ],
      "metadata": {
        "colab": {
          "base_uri": "https://localhost:8080/"
        },
        "id": "LdtwDcHchwcH",
        "outputId": "23061b04-99d5-41b7-8dbe-dcc747bf078f"
      },
      "execution_count": 63,
      "outputs": [
        {
          "output_type": "stream",
          "name": "stdout",
          "text": [
            "+-------+------------+--------+----------+\n",
            "|    UIN|CustomerName|  Status|LoanAmount|\n",
            "+-------+------------+--------+----------+\n",
            "|UIN0001|    Abhishek|Approved|     23000|\n",
            "|UIN0002|        Aman|Approved|     22500|\n",
            "|UIN0003|       Harsh|Rejected|     21500|\n",
            "|UIN0004|       Ayush|Rejected|     21500|\n",
            "|UIN0005|       Aditi|Rejected|     25500|\n",
            "|UIN0006|      Anjali|Approved|     21000|\n",
            "|UIN0007|     Shubham|Approved|     21000|\n",
            "|UIN0008|     Anushka|Rejected|     24500|\n",
            "|UIN0009|       Rohit|Approved|     22000|\n",
            "|UIN0010|     Saurabh|Rejected|     20500|\n",
            "|UIN0011|      Muskan|Rejected|     20500|\n",
            "|UIN0012|       Rahul|Rejected|     23500|\n",
            "|UIN0013|     Utkarsh|Rejected|     23000|\n",
            "|UIN0014|     Vaibhav|Rejected|     24500|\n",
            "|UIN0015|        Amit|Rejected|     23500|\n",
            "|UIN0016|      Saumya|Rejected|     24500|\n",
            "|UIN0017|     Rishabh|Rejected|     23000|\n",
            "|UIN0018|      Shruti|Rejected|     23000|\n",
            "|UIN0019|    Himanshu|Rejected|     24500|\n",
            "|UIN0020|       Kajal|Rejected|     20500|\n",
            "+-------+------------+--------+----------+\n",
            "only showing top 20 rows\n",
            "\n"
          ]
        }
      ]
    },
    {
      "cell_type": "markdown",
      "source": [
        "### 4. Moving Final data to hive table"
      ],
      "metadata": {
        "id": "ZAmM21XXlFLJ"
      }
    },
    {
      "cell_type": "code",
      "source": [
        "from pyspark.sql import HiveContext\n",
        "hc = HiveContext(sc)\n",
        "print(hc)"
      ],
      "metadata": {
        "id": "11v1r5Wsic6s"
      },
      "execution_count": null,
      "outputs": []
    },
    {
      "cell_type": "code",
      "source": [
        "sqlContext.sql('create database homeloandb')\n",
        "sqlContext.sql('use homeloandb')\n",
        "sqlContext.tableNames()"
      ],
      "metadata": {
        "colab": {
          "base_uri": "https://localhost:8080/"
        },
        "id": "5xfj4IoiivZZ",
        "outputId": "4ac5b51a-2d6a-4a93-e57d-127d91d2d61d"
      },
      "execution_count": 67,
      "outputs": [
        {
          "output_type": "execute_result",
          "data": {
            "text/plain": [
              "[]"
            ]
          },
          "metadata": {},
          "execution_count": 67
        }
      ]
    },
    {
      "cell_type": "code",
      "source": [
        "from pyspark.sql import DataFrameWriter\n",
        "dfw = DataFrameWriter(final_file)\n",
        "dfw.saveAsTable(name=\"home_loan_approval\",mode='overwrite')"
      ],
      "metadata": {
        "id": "xYJmzPaajOwx"
      },
      "execution_count": 68,
      "outputs": []
    },
    {
      "cell_type": "code",
      "source": [
        "sqlContext.tableNames()"
      ],
      "metadata": {
        "colab": {
          "base_uri": "https://localhost:8080/"
        },
        "id": "b8cWAeXajaWl",
        "outputId": "e9b7b304-2a31-451c-f4cb-e644ace2ee1b"
      },
      "execution_count": 69,
      "outputs": [
        {
          "output_type": "execute_result",
          "data": {
            "text/plain": [
              "['home_loan_approval']"
            ]
          },
          "metadata": {},
          "execution_count": 69
        }
      ]
    },
    {
      "cell_type": "code",
      "source": [
        "sql = spark.sql(\"SELECT * from home_loan_approval WHERE Status = 'Approved' ORDER BY LoanAmount DESC\")\n",
        "sql.show()"
      ],
      "metadata": {
        "colab": {
          "base_uri": "https://localhost:8080/"
        },
        "id": "n2MYvSb9jiQA",
        "outputId": "36c0faad-769f-4410-97eb-7e19251e7bf3"
      },
      "execution_count": 71,
      "outputs": [
        {
          "output_type": "stream",
          "name": "stdout",
          "text": [
            "+-------+------------+--------+----------+\n",
            "|    UIN|CustomerName|  Status|LoanAmount|\n",
            "+-------+------------+--------+----------+\n",
            "|UIN0001|    Abhishek|Approved|     23000|\n",
            "|UIN0031|        Yash|Approved|     23000|\n",
            "|UIN0002|        Aman|Approved|     22500|\n",
            "|UIN0032|      Shreya|Approved|     22500|\n",
            "|UIN0009|       Rohit|Approved|     22000|\n",
            "|UIN0039|       Nidhi|Approved|     22000|\n",
            "|UIN0006|      Anjali|Approved|     21000|\n",
            "|UIN0007|     Shubham|Approved|     21000|\n",
            "|UIN0036|       Swati|Approved|     21000|\n",
            "|UIN0037|      Vishal|Approved|     21000|\n",
            "+-------+------------+--------+----------+\n",
            "\n"
          ]
        }
      ]
    },
    {
      "cell_type": "markdown",
      "source": [
        "### 5. customer's name who are eligible for home loan"
      ],
      "metadata": {
        "id": "8uQwvq-skiqx"
      }
    },
    {
      "cell_type": "markdown",
      "source": [
        "Based on:\n",
        "\n",
        "*   Customer LivingStatus should be “BPL”\n",
        "*   Customer should not be defaulter\n",
        "*   Customer Credit score should be more than 800\n",
        "\n",
        "\n",
        "\n"
      ],
      "metadata": {
        "id": "Pjmn66UglwUI"
      }
    },
    {
      "cell_type": "code",
      "source": [
        "final_data.filter('LivingStatus==\"BPL\"' and \"Status=='Approved'\").select('CustomerName').show()"
      ],
      "metadata": {
        "colab": {
          "base_uri": "https://localhost:8080/"
        },
        "id": "6vzXptTvj_80",
        "outputId": "600282b4-db1f-4996-f1e1-6511cdf13b3d"
      },
      "execution_count": 74,
      "outputs": [
        {
          "output_type": "stream",
          "name": "stdout",
          "text": [
            "+------------+\n",
            "|CustomerName|\n",
            "+------------+\n",
            "|    Abhishek|\n",
            "|        Aman|\n",
            "|      Anjali|\n",
            "|     Shubham|\n",
            "|       Rohit|\n",
            "|        Yash|\n",
            "|      Shreya|\n",
            "|       Swati|\n",
            "|      Vishal|\n",
            "|       Nidhi|\n",
            "+------------+\n",
            "\n"
          ]
        }
      ]
    }
  ]
}